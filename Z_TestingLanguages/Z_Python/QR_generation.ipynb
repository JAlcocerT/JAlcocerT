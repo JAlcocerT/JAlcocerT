{
 "cells": [
  {
   "cell_type": "code",
   "execution_count": null,
   "metadata": {},
   "outputs": [],
   "source": []
  },
  {
   "cell_type": "code",
   "execution_count": 1,
   "metadata": {},
   "outputs": [
    {
     "data": {
      "text/plain": [
       "2"
      ]
     },
     "execution_count": 1,
     "metadata": {},
     "output_type": "execute_result"
    }
   ],
   "source": [
    "1+1\n"
   ]
  },
  {
   "cell_type": "code",
   "execution_count": 6,
   "metadata": {},
   "outputs": [
    {
     "name": "stdout",
     "output_type": "stream",
     "text": [
      "Requirement already satisfied: qrcode in /home/jalcocert/Desktop/JAlcocerT/solvingerror_venv/lib/python3.12/site-packages (8.0)\n",
      "Collecting Pillow\n",
      "  Using cached pillow-11.1.0-cp312-cp312-manylinux_2_28_x86_64.whl.metadata (9.1 kB)\n",
      "Using cached pillow-11.1.0-cp312-cp312-manylinux_2_28_x86_64.whl (4.5 MB)\n",
      "Installing collected packages: Pillow\n",
      "Successfully installed Pillow-11.1.0\n",
      "Note: you may need to restart the kernel to use updated packages.\n"
     ]
    }
   ],
   "source": [
    "pip install qrcode & pip install Pillow"
   ]
  },
  {
   "cell_type": "code",
   "execution_count": 1,
   "metadata": {},
   "outputs": [
    {
     "name": "stdout",
     "output_type": "stream",
     "text": [
      "Name: pillow\n",
      "Version: 11.1.0\n",
      "Summary: Python Imaging Library (Fork)\n",
      "Home-page: \n",
      "Author: \n",
      "Author-email: \"Jeffrey A. Clark\" <aclark@aclark.net>\n",
      "License: MIT-CMU\n",
      "Location: /home/jalcocert/Desktop/JAlcocerT/solvingerror_venv/lib/python3.12/site-packages\n",
      "Requires: \n",
      "Required-by: \n",
      "Note: you may need to restart the kernel to use updated packages.\n"
     ]
    }
   ],
   "source": [
    "pip show Pillow"
   ]
  },
  {
   "cell_type": "code",
   "execution_count": 3,
   "metadata": {},
   "outputs": [
    {
     "name": "stdout",
     "output_type": "stream",
     "text": [
      "Name: qrcode\n",
      "Version: 8.0\n",
      "Summary: QR Code image generator\n",
      "Home-page: https://github.com/lincolnloop/python-qrcode\n",
      "Author: Lincoln Loop\n",
      "Author-email: info@lincolnloop.com\n",
      "License: BSD\n",
      "Location: /home/jalcocert/Desktop/JAlcocerT/solvingerror_venv/lib/python3.12/site-packages\n",
      "Requires: \n",
      "Required-by: \n",
      "Note: you may need to restart the kernel to use updated packages.\n"
     ]
    }
   ],
   "source": [
    "pip show qrcode"
   ]
  },
  {
   "cell_type": "code",
   "execution_count": 7,
   "metadata": {},
   "outputs": [
    {
     "name": "stdout",
     "output_type": "stream",
     "text": [
      "QR code saved to my_qr_code.png\n"
     ]
    }
   ],
   "source": [
    "import qrcode\n",
    "\n",
    "def generate_qr_code(url, filename=\"qrcode.png\"):\n",
    "    \"\"\"Generates a QR code for the given URL and saves it to a file.\"\"\"\n",
    "\n",
    "    qr = qrcode.QRCode(\n",
    "        version=1,  # Adjust as needed (1-40, None for auto)\n",
    "        error_correction=qrcode.constants.ERROR_CORRECT_L, # Adjust as needed (L, M, Q, H)\n",
    "        box_size=10,  # Size of each box in the QR code\n",
    "        border=4,  # Border around the QR code\n",
    "    )\n",
    "\n",
    "    qr.add_data(url)\n",
    "    qr.make(fit=True)  # fit=True makes the QR code as small as possible\n",
    "\n",
    "    img = qr.make_image(fill_color=\"black\", back_color=\"white\") # Customize colors\n",
    "    img.save(filename)\n",
    "\n",
    "    print(f\"QR code saved to {filename}\")\n",
    "\n",
    "# Example usage:\n",
    "url_to_encode = \"https://www.example.com\"  # Replace with your URL\n",
    "generate_qr_code(url_to_encode, \"my_qr_code.png\")"
   ]
  },
  {
   "cell_type": "code",
   "execution_count": null,
   "metadata": {},
   "outputs": [],
   "source": [
    "#sudo apt-get install imagemagick\n",
    "#convert JAlcocerT.svg JAlcocerT.png\n"
   ]
  },
  {
   "cell_type": "code",
   "execution_count": 2,
   "metadata": {},
   "outputs": [
    {
     "name": "stdout",
     "output_type": "stream",
     "text": [
      "QR code with logo saved to my_qr_code_with_logo.png\n"
     ]
    }
   ],
   "source": [
    "import qrcode\n",
    "from PIL import Image\n",
    "\n",
    "def generate_qr_code_with_logo(url, logo_path, filename=\"qrcode_with_logo.png\"):\n",
    "    \"\"\"Generates a QR code with a logo in the center.\"\"\"\n",
    "\n",
    "    qr = qrcode.QRCode(\n",
    "        version=1,\n",
    "        error_correction=qrcode.constants.ERROR_CORRECT_H,  # Higher error correction for logo\n",
    "        box_size=10,\n",
    "        border=4,\n",
    "    )\n",
    "    qr.add_data(url)\n",
    "    qr.make(fit=True)\n",
    "\n",
    "    qr_image = qr.make_image(fill_color=\"black\", back_color=\"white\").convert(\"RGB\")  # Convert to RGB\n",
    "\n",
    "    try:\n",
    "        logo = Image.open(logo_path).convert(\"RGB\")  # Open and convert logo to RGB\n",
    "    except FileNotFoundError:\n",
    "        print(f\"Error: Logo file not found at {logo_path}\")\n",
    "        return\n",
    "\n",
    "    # Calculate logo size and position\n",
    "    qr_width, qr_height = qr_image.size\n",
    "    logo_size = int(min(qr_width, qr_height) * 0.2)  # Adjust size as needed (20% of QR size)\n",
    "    logo = logo.resize((logo_size, logo_size))\n",
    "\n",
    "    x_center = (qr_width - logo_size) // 2\n",
    "    y_center = (qr_height - logo_size) // 2\n",
    "\n",
    "    # Paste the logo onto the QR code\n",
    "    qr_image.paste(logo, (x_center, y_center))\n",
    "\n",
    "    qr_image.save(filename)\n",
    "    print(f\"QR code with logo saved to {filename}\")\n",
    "\n",
    "\n",
    "\n",
    "# Example usage:\n",
    "url_to_encode = \"https://elenayjose.boda.jalcocertech.com\"  # Replace with your URL\n",
    "#logo_image_path = \"/home/jalcocert/Desktop/JAlcocerT/Z_TestingLanguages/Z_Python/jalcocertech.png\"  # Replace with the path to your logo\n",
    "logo_image_path = \"jalcocertech.png\"  # Replace with the path to your logo\n",
    "generate_qr_code_with_logo(url_to_encode, logo_image_path, \"my_qr_code_with_logo.png\")"
   ]
  }
 ],
 "metadata": {
  "kernelspec": {
   "display_name": "solvingerror_venv",
   "language": "python",
   "name": "python3"
  },
  "language_info": {
   "codemirror_mode": {
    "name": "ipython",
    "version": 3
   },
   "file_extension": ".py",
   "mimetype": "text/x-python",
   "name": "python",
   "nbconvert_exporter": "python",
   "pygments_lexer": "ipython3",
   "version": "3.12.3"
  }
 },
 "nbformat": 4,
 "nbformat_minor": 2
}
