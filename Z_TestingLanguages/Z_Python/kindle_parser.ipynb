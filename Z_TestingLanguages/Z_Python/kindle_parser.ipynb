{
 "cells": [
  {
   "cell_type": "markdown",
   "id": "3c343414",
   "metadata": {},
   "source": [
    "* https://jalcocert.github.io/JAlcocerT/kindle-clippings-knowledge-base\n"
   ]
  },
  {
   "cell_type": "code",
   "execution_count": null,
   "id": "c473428a",
   "metadata": {},
   "outputs": [
    {
     "data": {
      "text/plain": [
       "2"
      ]
     },
     "execution_count": 1,
     "metadata": {},
     "output_type": "execute_result"
    }
   ],
   "source": [
    "#https://github.com/JAlcocerT/ebook-ideas/blob/master/extract_notes_advanced.py\n",
    "1+1\n"
   ]
  }
 ],
 "metadata": {
  "kernelspec": {
   "display_name": "Python 3",
   "language": "python",
   "name": "python3"
  },
  "language_info": {
   "codemirror_mode": {
    "name": "ipython",
    "version": 3
   },
   "file_extension": ".py",
   "mimetype": "text/x-python",
   "name": "python",
   "nbconvert_exporter": "python",
   "pygments_lexer": "ipython3",
   "version": "3.10.12"
  }
 },
 "nbformat": 4,
 "nbformat_minor": 5
}
