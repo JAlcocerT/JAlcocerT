{
 "cells": [
  {
   "cell_type": "code",
   "execution_count": null,
   "id": "393a54cf",
   "metadata": {
    "vscode": {
     "languageId": "plaintext"
    }
   },
   "outputs": [],
   "source": [
    "\n"
   ]
  },
  {
   "cell_type": "markdown",
   "id": "3c343414",
   "metadata": {},
   "source": [
    "* https://jalcocert.github.io/JAlcocerT/kindle-clippings-knowledge-base\n"
   ]
  },
  {
   "cell_type": "code",
   "execution_count": null,
   "id": "c473428a",
   "metadata": {
    "vscode": {
     "languageId": "plaintext"
    }
   },
   "outputs": [],
   "source": [
    "1+1\n",
    "\n",
    "\n"
   ]
  }
 ],
 "metadata": {
  "language_info": {
   "name": "python"
  }
 },
 "nbformat": 4,
 "nbformat_minor": 5
}
